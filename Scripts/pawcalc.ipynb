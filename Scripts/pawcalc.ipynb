{
 "cells": [
  {
   "cell_type": "code",
   "execution_count": 57,
   "id": "e2a1d63a",
   "metadata": {},
   "outputs": [],
   "source": [
    "## Set the farming period (7, 14, or 30 days)\n",
    "## If you just wish to calculate your total wake-up cost without the 14 or 30 day period fee, just select 7 days\n",
    "\n",
    "farming_period = 14\n",
    "\n",
    "## Set the rarity (rare, epic, legendary, pawsome) of each catgirl and their nya score.\n",
    "## If you want to leave out a slot, simply write \"none\" in brackets and leave the nya score as is or set to 0.\n",
    "## If you screwed something up, the program will tell you.\n",
    "\n",
    "cgirl1 = \"epic\"\n",
    "nya1 = 80\n",
    "\n",
    "cgirl2 = \"none\"\n",
    "nya2 = 90\n",
    "\n",
    "cgirl3 = \"none\"\n",
    "nya3 = 90\n",
    "\n",
    "cgirl4 = \"none\"\n",
    "nya4 = 90\n",
    "\n",
    "cgirl5 = \"none\"\n",
    "nya5 = 90\n",
    "\n",
    "# Now press the >> button up top to restart the program and receive a result below."
   ]
  },
  {
   "cell_type": "code",
   "execution_count": 58,
   "id": "d8564c72",
   "metadata": {},
   "outputs": [],
   "source": [
    "# DON'T CHANGE THIS\n",
    "\n",
    "glist = [(cgirl1, nya1), (cgirl2, nya2), (cgirl3, nya3), (cgirl4, nya4), (cgirl5, nya5)] \n",
    "\n",
    "def cost_sum(rar, nya):\n",
    "    if rar == \"rare\":\n",
    "        cost = 500 + 5*nya\n",
    "        \n",
    "    elif rar == \"epic\":\n",
    "        cost = 2000 + 20*nya\n",
    "        \n",
    "    elif rar == \"legendary\":\n",
    "        cost = 8000 + 80*nya\n",
    "        \n",
    "    elif rar == \"pawsome\":\n",
    "        cost = 240000 + 2400*nya\n",
    "        \n",
    "    elif rar == \"none\":\n",
    "        cost = 0\n",
    "    \n",
    "    else:\n",
    "        raise ValueError()\n",
    "        \n",
    "    return cost\n",
    "\n",
    "def period_parse(period):\n",
    "    period_cost = 0\n",
    "    if period not in (7,14,30):\n",
    "        raise ValueError()\n",
    "        \n",
    "    if period == 14:\n",
    "        period_cost = 4000\n",
    "        \n",
    "    elif period == 30:\n",
    "        period_cost = 40000\n",
    "    \n",
    "    return period_cost\n",
    "            \n",
    "        \n",
    "def cost_calc(catgirls, period):\n",
    "    try:\n",
    "        wakeup = 0\n",
    "        \n",
    "        for x, y in catgirls:\n",
    "            wakeup += cost_sum(x, y)\n",
    "            \n",
    "        ressi = round((wakeup + period_parse(period))/period, 2)\n",
    "        \n",
    "        print(\"Your overall wake-up cost is: {} PAW. You will need approx. {} daily PAW production to cover wake-up and your {} day farming cost.\".format(wakeup, ressi, period))\n",
    "            \n",
    "    except ValueError:\n",
    "        print(\"Oops! There seems to be a mistake in your rarities or farming period. Please check and try again.\")\n",
    "\n",
    "        "
   ]
  },
  {
   "cell_type": "code",
   "execution_count": 59,
   "id": "1a5de1ad",
   "metadata": {},
   "outputs": [
    {
     "name": "stdout",
     "output_type": "stream",
     "text": [
      "Your overall wake-up cost is: 3600 PAW. You will need approx. 542.86 daily PAW production to cover wake-up and your 14 day farming cost.\n"
     ]
    }
   ],
   "source": [
    "# DON'T CHANGE THIS \n",
    "cost_calc(glist, farming_period)\n",
    "\n",
    "# Your results will be printed here"
   ]
  }
 ],
 "metadata": {
  "kernelspec": {
   "display_name": "Python 3 (ipykernel)",
   "language": "python",
   "name": "python3"
  },
  "language_info": {
   "codemirror_mode": {
    "name": "ipython",
    "version": 3
   },
   "file_extension": ".py",
   "mimetype": "text/x-python",
   "name": "python",
   "nbconvert_exporter": "python",
   "pygments_lexer": "ipython3",
   "version": "3.9.7"
  }
 },
 "nbformat": 4,
 "nbformat_minor": 5
}
